{
 "cells": [
  {
   "cell_type": "code",
   "execution_count": 1,
   "metadata": {},
   "outputs": [],
   "source": [
    "import pandas as pd\n",
    "import numpy as np\n",
    "import matplotlib.pyplot as plt"
   ]
  },
  {
   "cell_type": "code",
   "execution_count": 3,
   "metadata": {},
   "outputs": [],
   "source": [
    "#reading csvs from cleaned data set\n",
    "T_pop = pd.read_csv(\"mostchangedpop.csv\")\n",
    "B_pop = pd.read_csv(\"leastchangedpop.csv\")\n",
    "T_house = pd.read_csv(\"top10inventory.csv\")\n",
    "B_house = pd.read_csv(\"bottom10inventory.csv\")\n",
    "T_rental = pd.read_csv(\"top10rental.csv\")\n",
    "B_rental = pd.read_csv(\"bottom10rental.csv\")\n",
    "\n",
    "cleaned_pop = pd.read_csv(\"cleaned_population.csv\")\n",
    "rental_df = pd.read_csv(\"cleaned_rental.csv\")\n",
    "housing_df = pd.read_csv(\"cleaned_inventory.csv\")"
   ]
  },
  {
   "cell_type": "code",
   "execution_count": 4,
   "metadata": {},
   "outputs": [],
   "source": []
  },
  {
   "cell_type": "code",
   "execution_count": null,
   "metadata": {},
   "outputs": [],
   "source": []
  }
 ],
 "metadata": {
  "kernelspec": {
   "display_name": "Python 3",
   "language": "python",
   "name": "python3"
  },
  "language_info": {
   "codemirror_mode": {
    "name": "ipython",
    "version": 3
   },
   "file_extension": ".py",
   "mimetype": "text/x-python",
   "name": "python",
   "nbconvert_exporter": "python",
   "pygments_lexer": "ipython3",
   "version": "3.8.3"
  }
 },
 "nbformat": 4,
 "nbformat_minor": 4
}
