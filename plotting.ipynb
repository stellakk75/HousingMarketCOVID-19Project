{
 "cells": [
  {
   "cell_type": "code",
   "execution_count": 1,
   "metadata": {},
   "outputs": [],
   "source": [
    "import pandas as pd\n",
    "import numpy as np\n",
    "import matplotlib.pyplot as plt\n",
    "from scipy.stats import linregress\n",
    "import scipy.stats as st"
   ]
  },
  {
   "cell_type": "code",
   "execution_count": 2,
   "metadata": {},
   "outputs": [],
   "source": [
    "#reading csvs from cleaned data set\n",
    "cleaned_pop_df = pd.read_csv(\"cleaned_population.csv\")\n",
    "cleaned_rental_df = pd.read_csv(\"cleaned_rental.csv\")\n",
    "cleaned_housing_df = pd.read_csv(\"cleaned_inventory.csv\")\n",
    "\n",
    "#top&bottom csvs\n",
    "T_pop = pd.read_csv(\"mostchangedpop.csv\")\n",
    "B_pop = pd.read_csv(\"leastchangedpop.csv\")\n",
    "T_house = pd.read_csv(\"top10inventory.csv\")\n",
    "B_house = pd.read_csv(\"bottom10inventory.csv\")\n",
    "T_rental = pd.read_csv(\"top10rental.csv\")\n",
    "B_rental = pd.read_csv(\"bottom10rental.csv\")\n",
    "\n",
    "#data set with changing rates\n",
    "population_df = pd.read_csv(\"sorted_population.csv\")\n",
    "rental_df = pd.read_csv(\"rental_rate.csv\")\n",
    "housing_df = pd.read_csv(\"housing_rate.csv\")"
   ]
  },
  {
   "cell_type": "code",
   "execution_count": 3,
   "metadata": {},
   "outputs": [
    {
     "data": {
      "text/plain": [
       "array(['New York', 'Los Angeles', 'Chicago', 'Dallas', 'Philadelphia',\n",
       "       'Houston', 'Washington', 'Miami', 'Atlanta', 'Boston',\n",
       "       'San Francisco', 'Detroit', 'Riverside', 'Phoenix', 'Seattle',\n",
       "       'Minneapolis', 'San Diego', 'St. Louis', 'Tampa', 'Baltimore',\n",
       "       'Denver', 'Pittsburgh', 'Portland', 'Charlotte', 'Sacramento',\n",
       "       'San Antonio', 'Orlando', 'Cincinnati', 'Cleveland', 'Kansas City',\n",
       "       'Las Vegas', 'Columbus', 'Indianapolis', 'San Jose', 'Austin',\n",
       "       'Virginia Beach', 'Nashville', 'Providence', 'Milwaukee',\n",
       "       'Jacksonville', 'Memphis', 'Oklahoma City', 'Louisville',\n",
       "       'Hartford', 'Richmond', 'New Orleans', 'Buffalo', 'Raleigh',\n",
       "       'Birmingham', 'Salt Lake City', 'Rochester', 'Grand Rapids',\n",
       "       'Tucson', 'Urban Honolulu', 'Tulsa', 'Fresno', 'Worcester',\n",
       "       'Stamford', 'Albuquerque', 'Albany', 'Omaha', 'New Haven',\n",
       "       'Bakersfield', 'Knoxville', 'Greenville', 'Ventura', 'Allentown',\n",
       "       'El Paso', 'Baton Rouge', 'Dayton', 'Columbia', 'Greensboro',\n",
       "       'Akron', 'North Port-Sarasota-Bradenton', 'Little Rock',\n",
       "       'Stockton', 'Charleston', 'Syracuse', 'Colorado Springs',\n",
       "       'Winston-Salem', 'Wichita', 'Springfield', 'Fort Myers',\n",
       "       'Boise City', 'Toledo', 'Madison', 'Lakeland', 'Ogden',\n",
       "       'Daytona Beach', 'Des Moines', 'Jackson', 'Youngstown', 'Augusta',\n",
       "       'Scranton', 'Harrisburg', 'Melbourne', 'Chattanooga', 'Spokane',\n",
       "       'Provo', 'Durham', 'Port St. Lucie', 'Fort Collins', 'Boulder',\n",
       "       'Greeley', 'Gainesville'], dtype=object)"
      ]
     },
     "execution_count": 3,
     "metadata": {},
     "output_type": "execute_result"
    }
   ],
   "source": [
    "#finding common cities in all three data set\n",
    "pop = population_df[[\"City\", \"State\"]]\n",
    "ren = rental_df[[\"City\", \"State\"]]\n",
    "hou = housing_df[[\"City\", \"State\"]]\n",
    "\n",
    "commons = ren.merge(pop, on=\"City\", how=\"left\")\n",
    "common= commons.merge(hou, on=\"City\", how=\"left\")\n",
    "common = common[\"City\"].unique()\n",
    "common"
   ]
  },
  {
   "cell_type": "code",
   "execution_count": 14,
   "metadata": {},
   "outputs": [],
   "source": [
    "\n",
    "# HDR1819 = []\n",
    "# HDR1920 = []\n",
    "\n",
    "# RDR1819 = []\n",
    "# RDR1920 = []\n",
    "newList = []\n",
    "for index,row in population_df.iterrows():\n",
    "    for city in common:\n",
    "        if city in row[\"City\"]:\n",
    "            newList.append({\n",
    "                \"city\":row[\"City\"],\n",
    "                \"PDR1819\": row[\"2018-2019 Population Rate\"],\n",
    "                \"PDR1920\": row[\"2019-2020 Population Rate\"],\n",
    "                \n",
    "            })\n",
    "newHousing=[ ] \n",
    "for index,row in housing_df.iterrows():\n",
    "    for city in common:\n",
    "        if city in row[\"City\"]:\n",
    "            newHousing.append({\n",
    "                \"city\":row[\"City\"],\n",
    "                \"HDR1819\": row[\"2018-2019 changing rate\"],\n",
    "                \"HDR1920\": row[\"2019-2020 changing rate\"]\n",
    "                \n",
    "            })\n",
    "\n",
    "newRental = [ ] \n",
    "for index,row in rental_df.iterrows():\n",
    "    for city in common:\n",
    "        if city in row[\"City\"]:\n",
    "            newRental.append({\n",
    "                \"city\":row[\"City\"],\n",
    "                \"RDR1819\": row[\"2018-2019 changing rate\"],\n",
    "                \"RDR1920\": row[\"2019-2020 changing rate\"]\n",
    "                               })\n",
    "    \n",
    "\n",
    "# for city in rental_df[\"City\"]:\n",
    "#     if city in common:\n",
    "#         HDR1819.append(rental_df[\"2018-2019 changing rate\"])\n",
    "#         HDR1819.append(rental_df[\"2019-2020 changing rate\"])"
   ]
  },
  {
   "cell_type": "code",
   "execution_count": 15,
   "metadata": {},
   "outputs": [],
   "source": [
    "\n",
    "newList = pd.DataFrame(newList)\n",
    "\n",
    "newHousing = pd.DataFrame(newHousing)\n",
    "newRental = pd.DataFrame(newRental)"
   ]
  },
  {
   "cell_type": "code",
   "execution_count": 28,
   "metadata": {
    "scrolled": true
   },
   "outputs": [
    {
     "data": {
      "text/html": [
       "<div>\n",
       "<style scoped>\n",
       "    .dataframe tbody tr th:only-of-type {\n",
       "        vertical-align: middle;\n",
       "    }\n",
       "\n",
       "    .dataframe tbody tr th {\n",
       "        vertical-align: top;\n",
       "    }\n",
       "\n",
       "    .dataframe thead th {\n",
       "        text-align: right;\n",
       "    }\n",
       "</style>\n",
       "<table border=\"1\" class=\"dataframe\">\n",
       "  <thead>\n",
       "    <tr style=\"text-align: right;\">\n",
       "      <th></th>\n",
       "      <th>city</th>\n",
       "      <th>PDR1819</th>\n",
       "      <th>PDR1920</th>\n",
       "      <th>HDR1819</th>\n",
       "      <th>HDR1920</th>\n",
       "      <th>RDR1819</th>\n",
       "      <th>RDR1920</th>\n",
       "    </tr>\n",
       "  </thead>\n",
       "  <tbody>\n",
       "    <tr>\n",
       "      <th>0</th>\n",
       "      <td>Salt Lake City</td>\n",
       "      <td>0.065857</td>\n",
       "      <td>6.381907</td>\n",
       "      <td>2.319249</td>\n",
       "      <td>3.357083</td>\n",
       "      <td>2.314455</td>\n",
       "      <td>-0.639372</td>\n",
       "    </tr>\n",
       "    <tr>\n",
       "      <th>1</th>\n",
       "      <td>Miami</td>\n",
       "      <td>1.111450</td>\n",
       "      <td>3.937277</td>\n",
       "      <td>1.759587</td>\n",
       "      <td>4.643373</td>\n",
       "      <td>3.534751</td>\n",
       "      <td>1.173697</td>\n",
       "    </tr>\n",
       "    <tr>\n",
       "      <th>2</th>\n",
       "      <td>Seattle</td>\n",
       "      <td>1.541291</td>\n",
       "      <td>3.909112</td>\n",
       "      <td>2.225370</td>\n",
       "      <td>5.527680</td>\n",
       "      <td>2.377688</td>\n",
       "      <td>0.673756</td>\n",
       "    </tr>\n",
       "    <tr>\n",
       "      <th>3</th>\n",
       "      <td>Tampa</td>\n",
       "      <td>0.621299</td>\n",
       "      <td>3.503628</td>\n",
       "      <td>2.406569</td>\n",
       "      <td>4.862630</td>\n",
       "      <td>3.263806</td>\n",
       "      <td>1.545500</td>\n",
       "    </tr>\n",
       "    <tr>\n",
       "      <th>4</th>\n",
       "      <td>Atlanta</td>\n",
       "      <td>1.731894</td>\n",
       "      <td>3.339904</td>\n",
       "      <td>4.091464</td>\n",
       "      <td>4.960132</td>\n",
       "      <td>3.209798</td>\n",
       "      <td>1.773491</td>\n",
       "    </tr>\n",
       "    <tr>\n",
       "      <th>...</th>\n",
       "      <td>...</td>\n",
       "      <td>...</td>\n",
       "      <td>...</td>\n",
       "      <td>...</td>\n",
       "      <td>...</td>\n",
       "      <td>...</td>\n",
       "      <td>...</td>\n",
       "    </tr>\n",
       "    <tr>\n",
       "      <th>76</th>\n",
       "      <td>Omaha</td>\n",
       "      <td>0.187094</td>\n",
       "      <td>-1.566316</td>\n",
       "      <td>4.566399</td>\n",
       "      <td>6.480742</td>\n",
       "      <td>5.276257</td>\n",
       "      <td>4.463610</td>\n",
       "    </tr>\n",
       "    <tr>\n",
       "      <th>77</th>\n",
       "      <td>Baton Rouge</td>\n",
       "      <td>-0.879428</td>\n",
       "      <td>-1.605096</td>\n",
       "      <td>3.002443</td>\n",
       "      <td>4.881788</td>\n",
       "      <td>2.645242</td>\n",
       "      <td>1.842762</td>\n",
       "    </tr>\n",
       "    <tr>\n",
       "      <th>78</th>\n",
       "      <td>Pittsburgh</td>\n",
       "      <td>-0.094487</td>\n",
       "      <td>-1.806944</td>\n",
       "      <td>5.301395</td>\n",
       "      <td>5.614423</td>\n",
       "      <td>2.975016</td>\n",
       "      <td>5.000586</td>\n",
       "    </tr>\n",
       "    <tr>\n",
       "      <th>79</th>\n",
       "      <td>St. Louis</td>\n",
       "      <td>-0.936988</td>\n",
       "      <td>-2.257000</td>\n",
       "      <td>4.850413</td>\n",
       "      <td>8.870747</td>\n",
       "      <td>4.970421</td>\n",
       "      <td>4.126580</td>\n",
       "    </tr>\n",
       "    <tr>\n",
       "      <th>80</th>\n",
       "      <td>Columbus</td>\n",
       "      <td>0.824024</td>\n",
       "      <td>-3.306448</td>\n",
       "      <td>5.489783</td>\n",
       "      <td>6.828545</td>\n",
       "      <td>4.607823</td>\n",
       "      <td>3.326074</td>\n",
       "    </tr>\n",
       "  </tbody>\n",
       "</table>\n",
       "<p>81 rows × 7 columns</p>\n",
       "</div>"
      ],
      "text/plain": [
       "               city   PDR1819   PDR1920   HDR1819   HDR1920   RDR1819  \\\n",
       "0   Salt Lake City   0.065857  6.381907  2.319249  3.357083  2.314455   \n",
       "1            Miami   1.111450  3.937277  1.759587  4.643373  3.534751   \n",
       "2          Seattle   1.541291  3.909112  2.225370  5.527680  2.377688   \n",
       "3            Tampa   0.621299  3.503628  2.406569  4.862630  3.263806   \n",
       "4          Atlanta   1.731894  3.339904  4.091464  4.960132  3.209798   \n",
       "..              ...       ...       ...       ...       ...       ...   \n",
       "76           Omaha   0.187094 -1.566316  4.566399  6.480742  5.276257   \n",
       "77     Baton Rouge  -0.879428 -1.605096  3.002443  4.881788  2.645242   \n",
       "78      Pittsburgh  -0.094487 -1.806944  5.301395  5.614423  2.975016   \n",
       "79       St. Louis  -0.936988 -2.257000  4.850413  8.870747  4.970421   \n",
       "80        Columbus   0.824024 -3.306448  5.489783  6.828545  4.607823   \n",
       "\n",
       "     RDR1920  \n",
       "0  -0.639372  \n",
       "1   1.173697  \n",
       "2   0.673756  \n",
       "3   1.545500  \n",
       "4   1.773491  \n",
       "..       ...  \n",
       "76  4.463610  \n",
       "77  1.842762  \n",
       "78  5.000586  \n",
       "79  4.126580  \n",
       "80  3.326074  \n",
       "\n",
       "[81 rows x 7 columns]"
      ]
     },
     "execution_count": 28,
     "metadata": {},
     "output_type": "execute_result"
    }
   ],
   "source": [
    "newList[\"HDR1819\"]=newHousing[\"HDR1819\"]\n",
    "newList[\"HDR1920\"]=newHousing[\"HDR1920\"]\n",
    "newList[\"RDR1819\"]=newRental[\"RDR1819\"]\n",
    "newList[\"RDR1920\"]=newRental[\"RDR1920\"]\n",
    "newList"
   ]
  },
  {
   "cell_type": "code",
   "execution_count": 29,
   "metadata": {},
   "outputs": [
    {
     "name": "stdout",
     "output_type": "stream",
     "text": [
      "The r-value is: 0.004328772008523088.\n",
      "The correlation is -0.07\n"
     ]
    },
    {
     "data": {
      "image/png": "[encoded data removed]",
      "text/plain": [
       "<Figure size 432x288 with 1 Axes>"
      ]
     },
     "metadata": {
      "needs_background": "light"
     },
     "output_type": "display_data"
    }
   ],
   "source": [
    "#plotting scatter plot w/ linear regression \"Population vs House Price 2018-2019\"\n",
    "fig, ax=plt.subplots(1)\n",
    "x_values = newList[\"PDR1819\"]\n",
    "y_values = newList[\"HDR1819\"]\n",
    "\n",
    "plt.scatter(x_values, y_values)\n",
    "(slope, intercept, rvalue, pvalue, stderr) = linregress(x_values, y_values)\n",
    "regress_values = x_values * slope + intercept\n",
    "line_eq = \"y = \" + str(round(slope,2)) + \"x + \" + str(round(intercept,2))\n",
    "cor = st.pearsonr(x_values, y_values)\n",
    "print(f'The r-value is: {rvalue**2}.')\n",
    "print(f\"The correlation is {round(cor[0],2)}\")\n",
    "plt.plot(x_values,regress_values, color='red')\n",
    "\n",
    "plt.title(\"Population Changing rate vs House Price Changing rate from 2018 to 2019\")\n",
    "plt.xlabel(\"Population Changing Rate\")\n",
    "plt.ylabel(\"House Price rate\")\n",
    "plt.annotate(line_eq,(1,0), fontsize=15,color=\"red\")\n",
    "plt.grid()\n",
    "plt.show()\n"
   ]
  },
  {
   "cell_type": "code",
   "execution_count": 31,
   "metadata": {},
   "outputs": [
    {
     "name": "stdout",
     "output_type": "stream",
     "text": [
      "The r-value is: 0.0359772439324146.\n",
      "The correlation is -0.19\n"
     ]
    },
    {
     "data": {
      "image/png": "[encoded data removed]",
      "text/plain": [
       "<Figure size 432x288 with 1 Axes>"
      ]
     },
     "metadata": {
      "needs_background": "light"
     },
     "output_type": "display_data"
    }
   ],
   "source": [
    "#plotting scatter plot w/ linear regression \"Population vs House Price 2018-2019\"\n",
    "fig, ax=plt.subplots(1)\n",
    "x_values = newList[\"PDR1920\"]\n",
    "y_values = newList[\"HDR1920\"]\n",
    "\n",
    "plt.scatter(x_values, y_values)\n",
    "(slope, intercept, rvalue, pvalue, stderr) = linregress(x_values, y_values)\n",
    "regress_values = x_values * slope + intercept\n",
    "line_eq = \"y = \" + str(round(slope,2)) + \"x + \" + str(round(intercept,2))\n",
    "cor = st.pearsonr(x_values, y_values)\n",
    "print(f'The r-value is: {rvalue**2}.')\n",
    "print(f\"The correlation is {round(cor[0],2)}\")\n",
    "plt.plot(x_values,regress_values, color='red')\n",
    "\n",
    "plt.title(\"Population Changing rate vs House Price Changing rate from 2019 to 2020\")\n",
    "plt.xlabel(\"Population Changing Rate\")\n",
    "plt.ylabel(\"House Price rate\")\n",
    "plt.annotate(line_eq,(1,0), fontsize=15,color=\"red\")\n",
    "plt.grid()\n",
    "plt.show()"
   ]
  },
  {
   "cell_type": "code",
   "execution_count": null,
   "metadata": {},
   "outputs": [],
   "source": [
    "#plotting scatter plot w/ linear regression \"Population vs House Price 2019-2020\"\n",
    "fig, ax=plt.subplots(1)\n",
    "x_values = combined_df[\"2019-2020 Population rate\"]\n",
    "y_values = combined_df[\"2019-2020 House Price rate\"]\n",
    "\n",
    "plt.scatter(x_values, y_values)\n",
    "(slope, intercept, rvalue, pvalue, stderr) = linregress(x_values, y_values)\n",
    "regress_values = x_values * slope + intercept\n",
    "line_eq = \"y = \" + str(round(slope,2)) + \"x + \" + str(round(intercept,2))\n",
    "plt.plot(x_values,regress_values, color='pink')\n",
    "\n",
    "\n",
    "plt.title(\"Population Changing rate vs House Price Changing rate from 2019 to 2020\")\n",
    "plt.xlabel(\"Population Changing Rate\")\n",
    "plt.ylabel(\"House Price rate\")\n",
    "plt.annotate(line_eq,(5,40), fontsize=15,color=\"pink\")\n",
    "plt.grid()\n",
    "plt.show()\n"
   ]
  },
  {
   "cell_type": "code",
   "execution_count": null,
   "metadata": {},
   "outputs": [],
   "source": [
    "fig = plt.figure() # Create matplotlib figure\n",
    "\n",
    "ax = fig.add_subplot(111) # Create matplotlib axes\n",
    "ax2 = ax.twinx() # Create another axes that shares the same x-axis as ax.\n",
    "\n",
    "width = 0.4\n",
    "\n",
    "population_df[\"2018-2019 Population Rate\"].plot(kind='bar', color='red', ax=ax, width=width, position=1)\n",
    "population_df[\"2019-2020 Population Rate\"].plot(kind='bar', color='blue', ax=ax2, width=width, position=0)\n",
    "\n",
    "ax.set_ylabel('Population changing rate')\n",
    "\n"
   ]
  },
  {
   "cell_type": "code",
   "execution_count": null,
   "metadata": {},
   "outputs": [],
   "source": [
    "population_df.head()"
   ]
  },
  {
   "cell_type": "code",
   "execution_count": null,
   "metadata": {},
   "outputs": [],
   "source": []
  }
 ],
 "metadata": {
  "kernelspec": {
   "display_name": "Python 3",
   "language": "python",
   "name": "python3"
  },
  "language_info": {
   "codemirror_mode": {
    "name": "ipython",
    "version": 3
   },
   "file_extension": ".py",
   "mimetype": "text/x-python",
   "name": "python",
   "nbconvert_exporter": "python",
   "pygments_lexer": "ipython3",
   "version": "3.8.3"
  }
 },
 "nbformat": 4,
 "nbformat_minor": 4
}
