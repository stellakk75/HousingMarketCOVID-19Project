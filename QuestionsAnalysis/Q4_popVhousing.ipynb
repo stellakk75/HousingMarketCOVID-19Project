{
 "cells": [
  {
   "cell_type": "code",
   "execution_count": 1,
   "metadata": {},
   "outputs": [],
   "source": [
    "import pandas as pd\n",
    "import numpy as np\n",
    "import matplotlib.pyplot as plt\n",
    "from scipy.stats import linregress\n",
    "import scipy.stats as st"
   ]
  },
  {
   "cell_type": "code",
   "execution_count": 4,
   "metadata": {},
   "outputs": [],
   "source": [
    "#reading csvs from cleaned data set\n",
    "cleaned_pop_df = pd.read_csv(\"../CleanedData/cleaned_population.csv\")\n",
    "cleaned_rental_df = pd.read_csv(\"../CleanedData/cleaned_rental.csv\")\n",
    "cleaned_housing_df = pd.read_csv(\"../CleanedData/cleaned_inventory.csv\")\n",
    "\n",
    "#top&bottom csvs\n",
    "TP1819 = pd.read_csv(\"../TopBottom/mostchangedpop18-19.csv\")\n",
    "TP1920 = pd.read_csv(\"../TopBottom/mostchangedpop19-20.csv\")\n",
    "BP1819 = pd.read_csv(\"../TopBottom/leastchangedpop18-19.csv\")\n",
    "BP1920 = pd.read_csv(\"../TopBottom/leastchangedpop19-20.csv\")\n",
    "T_house = pd.read_csv(\"../TopBottom/top10inventory.csv\")\n",
    "B_house = pd.read_csv(\"../TopBottom/bottom10inventory.csv\")\n",
    "T_rental = pd.read_csv(\"../TopBottom/top10rental.csv\")\n",
    "B_rental = pd.read_csv(\"../TopBottom/bottom10rental.csv\")\n",
    "\n",
    "#data set with changing rates\n",
    "population_df = pd.read_csv(\"../PopRelated/sorted_population.csv\")\n",
    "rental_df = pd.read_csv(\"../QuestionsAnalysis/rental_rate.csv\")\n",
    "housing_df = pd.read_csv(\"../QuestionsAnalysis/housing_rate.csv\")"
   ]
  },
  {
   "cell_type": "code",
   "execution_count": 3,
   "metadata": {},
   "outputs": [
    {
     "data": {
      "text/html": [
       "<div>\n",
       "<style scoped>\n",
       "    .dataframe tbody tr th:only-of-type {\n",
       "        vertical-align: middle;\n",
       "    }\n",
       "\n",
       "    .dataframe tbody tr th {\n",
       "        vertical-align: top;\n",
       "    }\n",
       "\n",
       "    .dataframe thead th {\n",
       "        text-align: right;\n",
       "    }\n",
       "</style>\n",
       "<table border=\"1\" class=\"dataframe\">\n",
       "  <thead>\n",
       "    <tr style=\"text-align: right;\">\n",
       "      <th></th>\n",
       "      <th>city</th>\n",
       "      <th>PDR1819</th>\n",
       "      <th>PDR1920</th>\n",
       "      <th>HDR1819</th>\n",
       "      <th>HDR1920</th>\n",
       "      <th>RDR1819</th>\n",
       "      <th>RDR1920</th>\n",
       "    </tr>\n",
       "  </thead>\n",
       "  <tbody>\n",
       "    <tr>\n",
       "      <th>0</th>\n",
       "      <td>Salt Lake City</td>\n",
       "      <td>0.065857</td>\n",
       "      <td>6.381907</td>\n",
       "      <td>2.014300</td>\n",
       "      <td>-0.280364</td>\n",
       "      <td>2.314455</td>\n",
       "      <td>-0.639372</td>\n",
       "    </tr>\n",
       "    <tr>\n",
       "      <th>1</th>\n",
       "      <td>Miami</td>\n",
       "      <td>1.111450</td>\n",
       "      <td>3.937277</td>\n",
       "      <td>1.519817</td>\n",
       "      <td>5.104837</td>\n",
       "      <td>3.534751</td>\n",
       "      <td>1.173697</td>\n",
       "    </tr>\n",
       "    <tr>\n",
       "      <th>2</th>\n",
       "      <td>Seattle</td>\n",
       "      <td>1.541291</td>\n",
       "      <td>3.909112</td>\n",
       "      <td>4.593249</td>\n",
       "      <td>3.079616</td>\n",
       "      <td>2.377688</td>\n",
       "      <td>0.673756</td>\n",
       "    </tr>\n",
       "    <tr>\n",
       "      <th>3</th>\n",
       "      <td>Tampa</td>\n",
       "      <td>0.621299</td>\n",
       "      <td>3.503628</td>\n",
       "      <td>1.021659</td>\n",
       "      <td>1.288111</td>\n",
       "      <td>3.263806</td>\n",
       "      <td>1.545500</td>\n",
       "    </tr>\n",
       "    <tr>\n",
       "      <th>4</th>\n",
       "      <td>Atlanta</td>\n",
       "      <td>1.731894</td>\n",
       "      <td>3.339904</td>\n",
       "      <td>5.193249</td>\n",
       "      <td>2.829788</td>\n",
       "      <td>3.209798</td>\n",
       "      <td>1.773491</td>\n",
       "    </tr>\n",
       "    <tr>\n",
       "      <th>...</th>\n",
       "      <td>...</td>\n",
       "      <td>...</td>\n",
       "      <td>...</td>\n",
       "      <td>...</td>\n",
       "      <td>...</td>\n",
       "      <td>...</td>\n",
       "      <td>...</td>\n",
       "    </tr>\n",
       "    <tr>\n",
       "      <th>76</th>\n",
       "      <td>Omaha</td>\n",
       "      <td>0.187094</td>\n",
       "      <td>-1.566316</td>\n",
       "      <td>7.840001</td>\n",
       "      <td>5.444049</td>\n",
       "      <td>5.276257</td>\n",
       "      <td>4.463610</td>\n",
       "    </tr>\n",
       "    <tr>\n",
       "      <th>77</th>\n",
       "      <td>Baton Rouge</td>\n",
       "      <td>-0.879428</td>\n",
       "      <td>-1.605096</td>\n",
       "      <td>1.711111</td>\n",
       "      <td>2.227123</td>\n",
       "      <td>2.645242</td>\n",
       "      <td>1.842762</td>\n",
       "    </tr>\n",
       "    <tr>\n",
       "      <th>78</th>\n",
       "      <td>Pittsburgh</td>\n",
       "      <td>-0.094487</td>\n",
       "      <td>-1.806944</td>\n",
       "      <td>3.386228</td>\n",
       "      <td>2.794442</td>\n",
       "      <td>2.975016</td>\n",
       "      <td>5.000586</td>\n",
       "    </tr>\n",
       "    <tr>\n",
       "      <th>79</th>\n",
       "      <td>St. Louis</td>\n",
       "      <td>-0.936988</td>\n",
       "      <td>-2.257000</td>\n",
       "      <td>4.821787</td>\n",
       "      <td>7.206758</td>\n",
       "      <td>4.970421</td>\n",
       "      <td>4.126580</td>\n",
       "    </tr>\n",
       "    <tr>\n",
       "      <th>80</th>\n",
       "      <td>Columbus</td>\n",
       "      <td>0.824024</td>\n",
       "      <td>-3.306448</td>\n",
       "      <td>4.248568</td>\n",
       "      <td>7.101124</td>\n",
       "      <td>4.607823</td>\n",
       "      <td>3.326074</td>\n",
       "    </tr>\n",
       "  </tbody>\n",
       "</table>\n",
       "<p>81 rows × 7 columns</p>\n",
       "</div>"
      ],
      "text/plain": [
       "               city   PDR1819   PDR1920   HDR1819   HDR1920   RDR1819  \\\n",
       "0   Salt Lake City   0.065857  6.381907  2.014300 -0.280364  2.314455   \n",
       "1            Miami   1.111450  3.937277  1.519817  5.104837  3.534751   \n",
       "2          Seattle   1.541291  3.909112  4.593249  3.079616  2.377688   \n",
       "3            Tampa   0.621299  3.503628  1.021659  1.288111  3.263806   \n",
       "4          Atlanta   1.731894  3.339904  5.193249  2.829788  3.209798   \n",
       "..              ...       ...       ...       ...       ...       ...   \n",
       "76           Omaha   0.187094 -1.566316  7.840001  5.444049  5.276257   \n",
       "77     Baton Rouge  -0.879428 -1.605096  1.711111  2.227123  2.645242   \n",
       "78      Pittsburgh  -0.094487 -1.806944  3.386228  2.794442  2.975016   \n",
       "79       St. Louis  -0.936988 -2.257000  4.821787  7.206758  4.970421   \n",
       "80        Columbus   0.824024 -3.306448  4.248568  7.101124  4.607823   \n",
       "\n",
       "     RDR1920  \n",
       "0  -0.639372  \n",
       "1   1.173697  \n",
       "2   0.673756  \n",
       "3   1.545500  \n",
       "4   1.773491  \n",
       "..       ...  \n",
       "76  4.463610  \n",
       "77  1.842762  \n",
       "78  5.000586  \n",
       "79  4.126580  \n",
       "80  3.326074  \n",
       "\n",
       "[81 rows x 7 columns]"
      ]
     },
     "execution_count": 3,
     "metadata": {},
     "output_type": "execute_result"
    }
   ],
   "source": [
    "#finding common cities in all three data set\n",
    "pop = population_df[[\"City\", \"State\"]]\n",
    "ren = rental_df[[\"City\", \"State\"]]\n",
    "hou = housing_df[[\"City\", \"State\"]]\n",
    "\n",
    "commons = ren.merge(pop, on=\"City\", how=\"left\")\n",
    "common= commons.merge(hou, on=\"City\", how=\"left\")\n",
    "common = common[\"City\"].unique()\n",
    "\n",
    "#collecting data from each data set \n",
    "newList = []\n",
    "for index,row in population_df.iterrows():\n",
    "    for city in common:\n",
    "        if city in row[\"City\"]:\n",
    "            newList.append({\n",
    "                \"city\":row[\"City\"],\n",
    "                \"PDR1819\": row[\"2018-2019 Population Rate\"],\n",
    "                \"PDR1920\": row[\"2019-2020 Population Rate\"],\n",
    "                \n",
    "            })\n",
    "newHousing=[ ] \n",
    "for index,row in housing_df.iterrows():\n",
    "    for city in common:\n",
    "        if city in row[\"City\"]:\n",
    "            newHousing.append({\n",
    "                \"city\":row[\"City\"],\n",
    "                \"HDR1819\": row[\"2018-2019 changing rate\"],\n",
    "                \"HDR1920\": row[\"2019-2020 changing rate\"]\n",
    "                \n",
    "            })\n",
    "\n",
    "newRental = [ ] \n",
    "for index,row in rental_df.iterrows():\n",
    "    for city in common:\n",
    "        if city in row[\"City\"]:\n",
    "            newRental.append({\n",
    "                \"city\":row[\"City\"],\n",
    "                \"RDR1819\": row[\"2018-2019 changing rate\"],\n",
    "                \"RDR1920\": row[\"2019-2020 changing rate\"]\n",
    "                               })\n",
    "            \n",
    "#converting collected data into dataframe \n",
    "newList = pd.DataFrame(newList)\n",
    "newHousing = pd.DataFrame(newHousing)\n",
    "newRental = pd.DataFrame(newRental)\n",
    "\n",
    "#combining the dataframs into one\n",
    "newList[\"HDR1819\"]=newHousing[\"HDR1819\"]\n",
    "newList[\"HDR1920\"]=newHousing[\"HDR1920\"]\n",
    "newList[\"RDR1819\"]=newRental[\"RDR1819\"]\n",
    "newList[\"RDR1920\"]=newRental[\"RDR1920\"]\n",
    "newList.to_csv(\"ChangingRates.csv\")\n",
    "newList"
   ]
  },
  {
   "cell_type": "code",
   "execution_count": 4,
   "metadata": {},
   "outputs": [
    {
     "name": "stdout",
     "output_type": "stream",
     "text": [
      "The r-value is: 0.05102418270220029.\n",
      "The correlation is -0.23\n"
     ]
    },
    {
     "data": {
      "image/png": "[encoded data removed]",
      "text/plain": [
       "<Figure size 432x288 with 1 Axes>"
      ]
     },
     "metadata": {
      "needs_background": "light"
     },
     "output_type": "display_data"
    }
   ],
   "source": [
    "#plotting scatter plot w/ linear regression \"Population vs House Price 2018-2019\"\n",
    "fig, ax=plt.subplots(1)\n",
    "x_values = newList[\"PDR1819\"]\n",
    "y_values = newList[\"HDR1819\"]\n",
    "\n",
    "plt.scatter(x_values, y_values)\n",
    "(slope, intercept, rvalue, pvalue, stderr) = linregress(x_values, y_values)\n",
    "regress_values = x_values * slope + intercept\n",
    "line_eq = \"y = \" + str(round(slope,2)) + \"x + \" + str(round(intercept,2))\n",
    "cor = st.pearsonr(x_values, y_values)\n",
    "print(f'The r-value is: {rvalue**2}.')\n",
    "print(f\"The correlation is {round(cor[0],2)}\")\n",
    "plt.plot(x_values,regress_values, color='red')\n",
    "\n",
    "plt.title(\"Population Changing rate vs House Price Changing rate from 2018 to 2019\")\n",
    "plt.xlabel(\"Population Changing Rate\")\n",
    "plt.ylabel(\"House Price rate\")\n",
    "plt.annotate(line_eq,(1,0), fontsize=15,color=\"red\")\n",
    "plt.grid()\n",
    "plt.show()"
   ]
  },
  {
   "cell_type": "code",
   "execution_count": 5,
   "metadata": {},
   "outputs": [
    {
     "name": "stdout",
     "output_type": "stream",
     "text": [
      "The r-value is: 0.112426696572543.\n",
      "The correlation is -0.34\n"
     ]
    },
    {
     "data": {
      "image/png": "[encoded data removed]",
      "text/plain": [
       "<Figure size 432x288 with 1 Axes>"
      ]
     },
     "metadata": {
      "needs_background": "light"
     },
     "output_type": "display_data"
    }
   ],
   "source": [
    "#plotting scatter plot w/ linear regression \"Population vs House Price 2018-2019\"\n",
    "fig, ax=plt.subplots(1)\n",
    "x_values = newList[\"PDR1920\"]\n",
    "y_values = newList[\"HDR1920\"]\n",
    "\n",
    "plt.scatter(x_values, y_values)\n",
    "(slope, intercept, rvalue, pvalue, stderr) = linregress(x_values, y_values)\n",
    "regress_values = x_values * slope + intercept\n",
    "line_eq = \"y = \" + str(round(slope,2)) + \"x + \" + str(round(intercept,2))\n",
    "cor = st.pearsonr(x_values, y_values)\n",
    "print(f'The r-value is: {rvalue**2}.')\n",
    "print(f\"The correlation is {round(cor[0],2)}\")\n",
    "plt.plot(x_values,regress_values, color='red')\n",
    "\n",
    "plt.title(\"Population Changing rate vs House Price Changing rate from 2019 to 2020\")\n",
    "plt.xlabel(\"Population Changing Rate\")\n",
    "plt.ylabel(\"House Price rate\")\n",
    "plt.annotate(line_eq,(1,0), fontsize=15,color=\"red\")\n",
    "plt.grid()\n",
    "plt.show()"
   ]
  },
  {
   "cell_type": "code",
   "execution_count": 6,
   "metadata": {},
   "outputs": [
    {
     "data": {
      "text/html": [
       "<div>\n",
       "<style scoped>\n",
       "    .dataframe tbody tr th:only-of-type {\n",
       "        vertical-align: middle;\n",
       "    }\n",
       "\n",
       "    .dataframe tbody tr th {\n",
       "        vertical-align: top;\n",
       "    }\n",
       "\n",
       "    .dataframe thead th {\n",
       "        text-align: right;\n",
       "    }\n",
       "</style>\n",
       "<table border=\"1\" class=\"dataframe\">\n",
       "  <thead>\n",
       "    <tr style=\"text-align: right;\">\n",
       "      <th></th>\n",
       "      <th>Unnamed: 0</th>\n",
       "      <th>Top 10 in 2018</th>\n",
       "      <th>Yearly Average of Top 10 in 2018</th>\n",
       "      <th>Top 10 in 2019</th>\n",
       "      <th>Yearly Average of Top 10 in 2019</th>\n",
       "      <th>Top 10 in 2020</th>\n",
       "      <th>Yearly Average of Top 10 in 2020</th>\n",
       "      <th>2018-2019 changing rate</th>\n",
       "      <th>2019-2020 changing rate</th>\n",
       "    </tr>\n",
       "  </thead>\n",
       "  <tbody>\n",
       "    <tr>\n",
       "      <th>5</th>\n",
       "      <td>53</td>\n",
       "      <td>Urban Honolulu</td>\n",
       "      <td>569136.500000</td>\n",
       "      <td>Urban Honolulu</td>\n",
       "      <td>588969.833333</td>\n",
       "      <td>Urban Honolulu</td>\n",
       "      <td>610928.125</td>\n",
       "      <td>3.367462</td>\n",
       "      <td>3.594251</td>\n",
       "    </tr>\n",
       "    <tr>\n",
       "      <th>9</th>\n",
       "      <td>9</td>\n",
       "      <td>Boston</td>\n",
       "      <td>444998.583333</td>\n",
       "      <td>Boston</td>\n",
       "      <td>457333.333333</td>\n",
       "      <td>Boston</td>\n",
       "      <td>493698.500</td>\n",
       "      <td>2.697103</td>\n",
       "      <td>7.365865</td>\n",
       "    </tr>\n",
       "    <tr>\n",
       "      <th>7</th>\n",
       "      <td>14</td>\n",
       "      <td>Seattle</td>\n",
       "      <td>470682.166667</td>\n",
       "      <td>Seattle</td>\n",
       "      <td>482437.833333</td>\n",
       "      <td>Seattle</td>\n",
       "      <td>514181.875</td>\n",
       "      <td>2.436722</td>\n",
       "      <td>6.173699</td>\n",
       "    </tr>\n",
       "    <tr>\n",
       "      <th>6</th>\n",
       "      <td>102</td>\n",
       "      <td>Boulder</td>\n",
       "      <td>529858.833333</td>\n",
       "      <td>Boulder</td>\n",
       "      <td>539750.000000</td>\n",
       "      <td>Boulder</td>\n",
       "      <td>552175.000</td>\n",
       "      <td>1.832546</td>\n",
       "      <td>2.250192</td>\n",
       "    </tr>\n",
       "    <tr>\n",
       "      <th>2</th>\n",
       "      <td>1</td>\n",
       "      <td>Los Angeles</td>\n",
       "      <td>635083.333333</td>\n",
       "      <td>Los Angeles</td>\n",
       "      <td>646458.333333</td>\n",
       "      <td>Los Angeles</td>\n",
       "      <td>677937.500</td>\n",
       "      <td>1.759587</td>\n",
       "      <td>4.643373</td>\n",
       "    </tr>\n",
       "  </tbody>\n",
       "</table>\n",
       "</div>"
      ],
      "text/plain": [
       "   Unnamed: 0  Top 10 in 2018  Yearly Average of Top 10 in 2018  \\\n",
       "5          53  Urban Honolulu                     569136.500000   \n",
       "9           9          Boston                     444998.583333   \n",
       "7          14         Seattle                     470682.166667   \n",
       "6         102         Boulder                     529858.833333   \n",
       "2           1     Los Angeles                     635083.333333   \n",
       "\n",
       "   Top 10 in 2019  Yearly Average of Top 10 in 2019  Top 10 in 2020  \\\n",
       "5  Urban Honolulu                     588969.833333  Urban Honolulu   \n",
       "9          Boston                     457333.333333          Boston   \n",
       "7         Seattle                     482437.833333         Seattle   \n",
       "6         Boulder                     539750.000000         Boulder   \n",
       "2     Los Angeles                     646458.333333     Los Angeles   \n",
       "\n",
       "   Yearly Average of Top 10 in 2020  2018-2019 changing rate  \\\n",
       "5                        610928.125                 3.367462   \n",
       "9                        493698.500                 2.697103   \n",
       "7                        514181.875                 2.436722   \n",
       "6                        552175.000                 1.832546   \n",
       "2                        677937.500                 1.759587   \n",
       "\n",
       "   2019-2020 changing rate  \n",
       "5                 3.594251  \n",
       "9                 7.365865  \n",
       "7                 6.173699  \n",
       "6                 2.250192  \n",
       "2                 4.643373  "
      ]
     },
     "execution_count": 6,
     "metadata": {},
     "output_type": "execute_result"
    }
   ],
   "source": [
    "#choosing top10 cities with the highest population changing rate\n",
    "TP1819P= TP1819.iloc[:11]\n",
    "\n",
    "#calculating house price changing rate\n",
    "T_house[\"2018-2019 changing rate\"]=''\n",
    "T_house[\"2019-2020 changing rate\"]=''\n",
    "\n",
    "for row in T_house:\n",
    "    rate_18 = ((T_house['Yearly Average of Top 10 in 2019']- T_house['Yearly Average of Top 10 in 2018'])/T_house['Yearly Average of Top 10 in 2019'])*100\n",
    "    T_house['2018-2019 changing rate'] = rate_18\n",
    "    rate_19 = ((T_house['Yearly Average of Top 10 in 2020']- T_house['Yearly Average of Top 10 in 2019'])/T_house['Yearly Average of Top 10 in 2020'])*100\n",
    "    T_house['2019-2020 changing rate'] = rate_19\n",
    "\n",
    "T_house1819 = T_house.sort_values(by=['2018-2019 changing rate'], ascending = False) \n",
    "T_house1819.head()\n"
   ]
  },
  {
   "cell_type": "code",
   "execution_count": 7,
   "metadata": {},
   "outputs": [
    {
     "name": "stdout",
     "output_type": "stream",
     "text": [
      "The r-value is: 0.4601379962677572.\n",
      "The correlation is 0.68\n"
     ]
    },
    {
     "data": {
      "image/png": "[encoded data removed]",
      "text/plain": [
       "<Figure size 432x288 with 1 Axes>"
      ]
     },
     "metadata": {
      "needs_background": "light"
     },
     "output_type": "display_data"
    }
   ],
   "source": [
    "#plotting scatter plot w/ linear regression \"TOP 10 Population vs House Price 2018-2019\"\n",
    "fig, ax=plt.subplots(1)\n",
    "x_values = TP1819P[\"2018-2019 Population Rate\"]\n",
    "y_values = T_house1819[\"2018-2019 changing rate\"]\n",
    "\n",
    "plt.scatter(x_values, y_values)\n",
    "(slope, intercept, rvalue, pvalue, stderr) = linregress(x_values, y_values)\n",
    "regress_values = x_values * slope + intercept\n",
    "line_eq = \"y = \" + str(round(slope,2)) + \"x + \" + str(round(intercept,2))\n",
    "cor = st.pearsonr(x_values, y_values)\n",
    "print(f'The r-value is: {rvalue**2}.')\n",
    "print(f\"The correlation is {round(cor[0],2)}\")\n",
    "plt.plot(x_values,regress_values, color='red')\n",
    "\n",
    "plt.title(\"TOP 10 Population vs House Price 2018-2019\")\n",
    "plt.xlabel(\"Population Changing Rate\")\n",
    "plt.ylabel(\"House Price rate\")\n",
    "plt.annotate(line_eq,(4,0), fontsize=15,color=\"red\")\n",
    "plt.grid()\n",
    "plt.show()"
   ]
  },
  {
   "cell_type": "code",
   "execution_count": 15,
   "metadata": {},
   "outputs": [
    {
     "data": {
      "text/html": [
       "<div>\n",
       "<style scoped>\n",
       "    .dataframe tbody tr th:only-of-type {\n",
       "        vertical-align: middle;\n",
       "    }\n",
       "\n",
       "    .dataframe tbody tr th {\n",
       "        vertical-align: top;\n",
       "    }\n",
       "\n",
       "    .dataframe thead th {\n",
       "        text-align: right;\n",
       "    }\n",
       "</style>\n",
       "<table border=\"1\" class=\"dataframe\">\n",
       "  <thead>\n",
       "    <tr style=\"text-align: right;\">\n",
       "      <th></th>\n",
       "      <th>city</th>\n",
       "      <th>PDR1819</th>\n",
       "      <th>PDR1920</th>\n",
       "      <th>HDR1819</th>\n",
       "      <th>HDR1920</th>\n",
       "      <th>RDR1819</th>\n",
       "      <th>RDR1920</th>\n",
       "    </tr>\n",
       "  </thead>\n",
       "  <tbody>\n",
       "    <tr>\n",
       "      <th>0</th>\n",
       "      <td>Salt Lake City</td>\n",
       "      <td>0.065857</td>\n",
       "      <td>6.381907</td>\n",
       "      <td>2.014300</td>\n",
       "      <td>-0.280364</td>\n",
       "      <td>2.314455</td>\n",
       "      <td>-0.639372</td>\n",
       "    </tr>\n",
       "    <tr>\n",
       "      <th>1</th>\n",
       "      <td>Miami</td>\n",
       "      <td>1.111450</td>\n",
       "      <td>3.937277</td>\n",
       "      <td>1.519817</td>\n",
       "      <td>5.104837</td>\n",
       "      <td>3.534751</td>\n",
       "      <td>1.173697</td>\n",
       "    </tr>\n",
       "    <tr>\n",
       "      <th>2</th>\n",
       "      <td>Seattle</td>\n",
       "      <td>1.541291</td>\n",
       "      <td>3.909112</td>\n",
       "      <td>4.593249</td>\n",
       "      <td>3.079616</td>\n",
       "      <td>2.377688</td>\n",
       "      <td>0.673756</td>\n",
       "    </tr>\n",
       "    <tr>\n",
       "      <th>3</th>\n",
       "      <td>Tampa</td>\n",
       "      <td>0.621299</td>\n",
       "      <td>3.503628</td>\n",
       "      <td>1.021659</td>\n",
       "      <td>1.288111</td>\n",
       "      <td>3.263806</td>\n",
       "      <td>1.545500</td>\n",
       "    </tr>\n",
       "    <tr>\n",
       "      <th>4</th>\n",
       "      <td>Atlanta</td>\n",
       "      <td>1.731894</td>\n",
       "      <td>3.339904</td>\n",
       "      <td>5.193249</td>\n",
       "      <td>2.829788</td>\n",
       "      <td>3.209798</td>\n",
       "      <td>1.773491</td>\n",
       "    </tr>\n",
       "  </tbody>\n",
       "</table>\n",
       "</div>"
      ],
      "text/plain": [
       "              city   PDR1819   PDR1920   HDR1819   HDR1920   RDR1819   RDR1920\n",
       "0  Salt Lake City   0.065857  6.381907  2.014300 -0.280364  2.314455 -0.639372\n",
       "1           Miami   1.111450  3.937277  1.519817  5.104837  3.534751  1.173697\n",
       "2         Seattle   1.541291  3.909112  4.593249  3.079616  2.377688  0.673756\n",
       "3           Tampa   0.621299  3.503628  1.021659  1.288111  3.263806  1.545500\n",
       "4         Atlanta   1.731894  3.339904  5.193249  2.829788  3.209798  1.773491"
      ]
     },
     "execution_count": 15,
     "metadata": {},
     "output_type": "execute_result"
    }
   ],
   "source": [
    "newList.head()"
   ]
  },
  {
   "cell_type": "code",
   "execution_count": 29,
   "metadata": {},
   "outputs": [
    {
     "name": "stdout",
     "output_type": "stream",
     "text": [
      "The r-value is: 0.5202122051587859.\n",
      "The correlation is -0.72\n"
     ]
    },
    {
     "data": {
      "image/png": "[encoded data removed]",
      "text/plain": [
       "<Figure size 432x288 with 1 Axes>"
      ]
     },
     "metadata": {
      "needs_background": "light"
     },
     "output_type": "display_data"
    }
   ],
   "source": [
    "#sorting data by 2018-2019 values based on the population changes\n",
    "PT1819 = newList.nlargest(10, 'PDR1819')\n",
    "\n",
    "#plotting scatter plot w/ linear regression \"TOP 10 Population vs House Price 2018-2019\"\n",
    "fig, ax=plt.subplots(1)\n",
    "x_values = PT1819[\"PDR1819\"]\n",
    "y_values = PT1819[\"HDR1819\"]\n",
    "\n",
    "plt.scatter(x_values, y_values)\n",
    "(slope, intercept, rvalue, pvalue, stderr) = linregress(x_values, y_values)\n",
    "regress_values = x_values * slope + intercept\n",
    "line_eq = \"y = \" + str(round(slope,2)) + \"x + \" + str(round(intercept,2))\n",
    "cor = st.pearsonr(x_values, y_values)\n",
    "print(f'The r-value is: {rvalue**2}.')\n",
    "print(f\"The correlation is {round(cor[0],2)}\")\n",
    "plt.plot(x_values,regress_values, color='red')\n",
    "\n",
    "plt.title(\"TOP 10 Population Changing vs House Price Changing 2018-2019\")\n",
    "plt.xlabel(\"Population Changing Rate\")\n",
    "plt.ylabel(\"House Price rate\")\n",
    "plt.annotate(line_eq,(2,4), fontsize=15,color=\"red\")\n",
    "plt.grid()\n",
    "plt.show()"
   ]
  },
  {
   "cell_type": "code",
   "execution_count": 30,
   "metadata": {},
   "outputs": [
    {
     "name": "stdout",
     "output_type": "stream",
     "text": [
      "The r-value is: 0.2910070916114012.\n",
      "The correlation is -0.54\n"
     ]
    },
    {
     "data": {
      "image/png": "[encoded data removed]",
      "text/plain": [
       "<Figure size 432x288 with 1 Axes>"
      ]
     },
     "metadata": {
      "needs_background": "light"
     },
     "output_type": "display_data"
    }
   ],
   "source": [
    "#sorting data by 2019-2020 values based on the population changes\n",
    "PT1920 = newList.nlargest(10, 'PDR1920')\n",
    "\n",
    "#plotting scatter plot w/ linear regression \"TOP 10 Population vs House Price 2019-2020\"\n",
    "fig, ax=plt.subplots(1)\n",
    "x_values = PT1920[\"PDR1920\"]\n",
    "y_values = PT1920[\"HDR1920\"]\n",
    "\n",
    "plt.scatter(x_values, y_values)\n",
    "(slope, intercept, rvalue, pvalue, stderr) = linregress(x_values, y_values)\n",
    "regress_values = x_values * slope + intercept\n",
    "line_eq = \"y = \" + str(round(slope,2)) + \"x + \" + str(round(intercept,2))\n",
    "cor = st.pearsonr(x_values, y_values)\n",
    "print(f'The r-value is: {rvalue**2}.')\n",
    "print(f\"The correlation is {round(cor[0],2)}\")\n",
    "plt.plot(x_values,regress_values, color='red')\n",
    "\n",
    "plt.title(\"TOP 10 Population Changing vs House Price Changing 2019-2020\")\n",
    "plt.xlabel(\"Population Changing Rate\")\n",
    "plt.ylabel(\"House Price rate\")\n",
    "plt.annotate(line_eq,(4,4), fontsize=15,color=\"red\")\n",
    "plt.grid()\n",
    "plt.show()\n",
    "\n"
   ]
  },
  {
   "cell_type": "code",
   "execution_count": 31,
   "metadata": {},
   "outputs": [
    {
     "name": "stdout",
     "output_type": "stream",
     "text": [
      "The r-value is: 0.28149724039687085.\n",
      "The correlation is 0.53\n"
     ]
    },
    {
     "data": {
      "image/png": "[encoded data removed]",
      "text/plain": [
       "<Figure size 432x288 with 1 Axes>"
      ]
     },
     "metadata": {
      "needs_background": "light"
     },
     "output_type": "display_data"
    }
   ],
   "source": [
    "#sorting data by 2018-2019 values based on the population changes\n",
    "PT1819 = newList.nsmallest(10, 'PDR1819')\n",
    "\n",
    "#plotting scatter plot w/ linear regression \"Bottom 10 Population vs House Price 2018-2019\"\n",
    "fig, ax=plt.subplots(1)\n",
    "x_values = PT1819[\"PDR1819\"]\n",
    "y_values = PT1819[\"HDR1819\"]\n",
    "\n",
    "plt.scatter(x_values, y_values)\n",
    "(slope, intercept, rvalue, pvalue, stderr) = linregress(x_values, y_values)\n",
    "regress_values = x_values * slope + intercept\n",
    "line_eq = \"y = \" + str(round(slope,2)) + \"x + \" + str(round(intercept,2))\n",
    "cor = st.pearsonr(x_values, y_values)\n",
    "print(f'The r-value is: {rvalue**2}.')\n",
    "print(f\"The correlation is {round(cor[0],2)}\")\n",
    "plt.plot(x_values,regress_values, color='red')\n",
    "\n",
    "plt.title(\"Bottom 10 Population Changing vs House Price Changing 2019-2020\")\n",
    "plt.xlabel(\"Population Changing Rate\")\n",
    "plt.ylabel(\"House Price rate\")\n",
    "plt.annotate(line_eq,(-1.5,7), fontsize=15,color=\"red\")\n",
    "plt.grid()\n",
    "plt.show()\n",
    "\n"
   ]
  },
  {
   "cell_type": "code",
   "execution_count": 32,
   "metadata": {},
   "outputs": [
    {
     "name": "stdout",
     "output_type": "stream",
     "text": [
      "The r-value is: 0.003712448631468345.\n",
      "The correlation is -0.06\n"
     ]
    },
    {
     "data": {
      "image/png": "[encoded data removed]",
      "text/plain": [
       "<Figure size 432x288 with 1 Axes>"
      ]
     },
     "metadata": {
      "needs_background": "light"
     },
     "output_type": "display_data"
    }
   ],
   "source": [
    "#sorting data by 2019-2020 values based on the population changes\n",
    "PT1920 = newList.nsmallest(10, 'PDR1920')\n",
    "\n",
    "#plotting scatter plot w/ linear regression \"Bottom 10 Population vs House Price 2019-2020\"\n",
    "fig, ax=plt.subplots(1)\n",
    "x_values = PT1920[\"PDR1920\"]\n",
    "y_values = PT1920[\"HDR1920\"]\n",
    "\n",
    "plt.scatter(x_values, y_values)\n",
    "(slope, intercept, rvalue, pvalue, stderr) = linregress(x_values, y_values)\n",
    "regress_values = x_values * slope + intercept\n",
    "line_eq = \"y = \" + str(round(slope,2)) + \"x + \" + str(round(intercept,2))\n",
    "cor = st.pearsonr(x_values, y_values)\n",
    "print(f'The r-value is: {rvalue**2}.')\n",
    "print(f\"The correlation is {round(cor[0],2)}\")\n",
    "plt.plot(x_values,regress_values, color='red')\n",
    "\n",
    "plt.title(\"Bottom 10 Population Changing vs House Price Changing 2019-2020\")\n",
    "plt.xlabel(\"Population Changing Rate\")\n",
    "plt.ylabel(\"House Price rate\")\n",
    "plt.annotate(line_eq,(-1.5,7), fontsize=15,color=\"red\")\n",
    "plt.grid()\n",
    "plt.show()\n",
    "\n"
   ]
  }
 ],
 "metadata": {
  "kernelspec": {
   "display_name": "Python 3",
   "language": "python",
   "name": "python3"
  },
  "language_info": {
   "codemirror_mode": {
    "name": "ipython",
    "version": 3
   },
   "file_extension": ".py",
   "mimetype": "text/x-python",
   "name": "python",
   "nbconvert_exporter": "python",
   "pygments_lexer": "ipython3",
   "version": "3.8.3"
  }
 },
 "nbformat": 4,
 "nbformat_minor": 4
}
